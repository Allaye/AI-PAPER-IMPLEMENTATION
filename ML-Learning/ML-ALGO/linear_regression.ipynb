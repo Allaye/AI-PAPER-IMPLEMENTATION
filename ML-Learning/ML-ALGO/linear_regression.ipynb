{
 "cells": [
  {
   "cell_type": "code",
   "execution_count": 2,
   "id": "6151a561-5fe0-4fa7-b061-642d9dc0b258",
   "metadata": {},
   "outputs": [
    {
     "name": "stdout",
     "output_type": "stream",
     "text": [
      "Collecting pandas\n",
      "  Downloading pandas-1.3.3-cp39-cp39-win_amd64.whl (10.2 MB)\n",
      "Requirement already satisfied: pytz>=2017.3 in c:\\users\\allaye\\appdata\\local\\programs\\python\\python39\\lib\\site-packages (from pandas) (2021.1)\n",
      "Requirement already satisfied: python-dateutil>=2.7.3 in c:\\users\\allaye\\appdata\\local\\programs\\python\\python39\\lib\\site-packages (from pandas) (2.8.2)\n",
      "Requirement already satisfied: numpy>=1.17.3 in c:\\users\\allaye\\appdata\\local\\programs\\python\\python39\\lib\\site-packages (from pandas) (1.21.2)\n",
      "Requirement already satisfied: six>=1.5 in c:\\users\\allaye\\appdata\\local\\programs\\python\\python39\\lib\\site-packages (from python-dateutil>=2.7.3->pandas) (1.16.0)\n",
      "Installing collected packages: pandas\n",
      "Successfully installed pandas-1.3.3\n"
     ]
    }
   ],
   "source": [
    "!pip install pandas"
   ]
  },
  {
   "cell_type": "code",
   "execution_count": 1,
   "id": "885f14c4-19a4-48eb-976c-1a4afded93f5",
   "metadata": {},
   "outputs": [
    {
     "name": "stdout",
     "output_type": "stream",
     "text": [
      "Package             Version\n",
      "------------------- ---------\n",
      "anyio               3.3.0\n",
      "argon2-cffi         20.1.0\n",
      "async-generator     1.10\n",
      "attrs               21.2.0\n",
      "Babel               2.9.1\n",
      "backcall            0.2.0\n",
      "bleach              4.0.0\n",
      "certifi             2021.5.30\n",
      "cffi                1.14.6\n",
      "charset-normalizer  2.0.4\n",
      "colorama            0.4.4\n",
      "debugpy             1.4.1\n",
      "decorator           5.0.9\n",
      "defusedxml          0.7.1\n",
      "entrypoints         0.3\n",
      "idna                3.2\n",
      "ipykernel           6.1.0\n",
      "ipython             7.26.0\n",
      "ipython-genutils    0.2.0\n",
      "jedi                0.18.0\n",
      "Jinja2              3.0.1\n",
      "json5               0.9.6\n",
      "jsonschema          3.2.0\n",
      "jupyter-client      6.1.12\n",
      "jupyter-core        4.7.1\n",
      "jupyter-server      1.10.2\n",
      "jupyterlab          3.1.6\n",
      "jupyterlab-pygments 0.1.2\n",
      "jupyterlab-server   2.7.0\n",
      "MarkupSafe          2.0.1\n",
      "matplotlib-inline   0.1.2\n",
      "mistune             0.8.4\n",
      "nbclassic           0.3.1\n",
      "nbclient            0.5.3\n",
      "nbconvert           6.1.0\n",
      "nbformat            5.1.3\n",
      "nest-asyncio        1.5.1\n",
      "notebook            6.4.3\n",
      "numpy               1.21.2\n",
      "packaging           21.0\n",
      "pandas              1.3.3\n",
      "pandocfilters       1.4.3\n",
      "parso               0.8.2\n",
      "pickleshare         0.7.5\n",
      "pip                 21.2.4\n",
      "prometheus-client   0.11.0\n",
      "prompt-toolkit      3.0.19\n",
      "pycparser           2.20\n",
      "Pygments            2.10.0\n",
      "pyparsing           2.4.7\n",
      "pyrsistent          0.18.0\n",
      "python-dateutil     2.8.2\n",
      "pytz                2021.1\n",
      "pywin32             301\n",
      "pywinpty            1.1.3\n",
      "pyzmq               22.2.1\n",
      "requests            2.26.0\n",
      "requests-unixsocket 0.2.0\n",
      "Send2Trash          1.8.0\n",
      "setuptools          56.0.0\n",
      "six                 1.16.0\n",
      "sniffio             1.2.0\n",
      "terminado           0.11.0\n",
      "testpath            0.5.0\n",
      "tornado             6.1\n",
      "traitlets           5.0.5\n",
      "urllib3             1.26.6\n",
      "wcwidth             0.2.5\n",
      "webencodings        0.5.1\n",
      "websocket-client    1.2.1\n"
     ]
    }
   ],
   "source": [
    "!pip list"
   ]
  },
  {
   "cell_type": "code",
   "execution_count": 4,
   "id": "81333244",
   "metadata": {},
   "outputs": [],
   "source": [
    "import pandas"
   ]
  },
  {
   "cell_type": "code",
   "execution_count": 3,
   "id": "484a4024-beef-47f4-b983-516d5548e7fc",
   "metadata": {},
   "outputs": [
    {
     "name": "stdout",
     "output_type": "stream",
     "text": [
      " Volume in drive C has no label.\n",
      " Volume Serial Number is 9892-6588\n",
      "\n",
      " Directory of C:\\Python\\Project\\Personal\\Python Project\\Learning\\ML\\ML-Learning\\ML-ALGO\n",
      "\n",
      "09/27/2021  07:23 AM    <DIR>          .\n",
      "09/27/2021  07:04 AM    <DIR>          ..\n",
      "09/06/2021  08:58 AM    <DIR>          .ipynb_checkpoints\n",
      "09/27/2021  07:23 AM             5,112 linear_regression.ipynb\n",
      "09/06/2021  08:53 AM             1,497 Untitled.ipynb\n",
      "09/06/2021  08:39 AM             1,492 Untitled1.ipynb\n",
      "09/27/2021  07:04 AM             5,308 Untitled2.ipynb\n",
      "               4 File(s)         13,409 bytes\n",
      "               3 Dir(s)  239,100,964,864 bytes free\n"
     ]
    }
   ],
   "source": [
    "!dir"
   ]
  },
  {
   "cell_type": "code",
   "execution_count": null,
   "id": "b82b65a5",
   "metadata": {},
   "outputs": [],
   "source": [
    "!cd .."
   ]
  },
  {
   "cell_type": "code",
   "execution_count": null,
   "id": "9bfdec6b",
   "metadata": {},
   "outputs": [],
   "source": []
  }
 ],
 "metadata": {
  "kernelspec": {
   "display_name": "MLvenv",
   "language": "python",
   "name": "mlvenv"
  },
  "language_info": {
   "codemirror_mode": {
    "name": "ipython",
    "version": 3
   },
   "file_extension": ".py",
   "mimetype": "text/x-python",
   "name": "python",
   "nbconvert_exporter": "python",
   "pygments_lexer": "ipython3",
   "version": "3.9.6"
  }
 },
 "nbformat": 4,
 "nbformat_minor": 5
}
